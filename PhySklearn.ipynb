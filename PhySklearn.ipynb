{
  "nbformat": 4,
  "nbformat_minor": 0,
  "metadata": {
    "colab": {
      "provenance": [],
      "collapsed_sections": [
        "QsOd5nJfEACY",
        "eq-GyIPMGnTB"
      ],
      "mount_file_id": "1C3_ULktAGPx8rGB7TqzXEhl2cSSwr4pb",
      "authorship_tag": "ABX9TyOu5RGscoes1Fs8LGBU4eCA",
      "include_colab_link": true
    },
    "kernelspec": {
      "name": "python3",
      "display_name": "Python 3"
    },
    "language_info": {
      "name": "python"
    }
  },
  "cells": [
    {
      "cell_type": "markdown",
      "metadata": {
        "id": "view-in-github",
        "colab_type": "text"
      },
      "source": [
        "<a href=\"https://colab.research.google.com/github/gilesitorr/tu_introduccion_al_ML_competitivo/blob/main/PhySklearn.ipynb\" target=\"_parent\"><img src=\"https://colab.research.google.com/assets/colab-badge.svg\" alt=\"Open In Colab\"/></a>"
      ]
    },
    {
      "cell_type": "markdown",
      "source": [
        "# Tu introducción al __¡¿Machine Learning competitivo?!__ 🤨\n",
        "## _(o al Machine Learning, y ya)_\n",
        "\n",
        "#### [Gil Estéfano Rodríguez Rivera](https://www.linkedin.com/in/gilesitorr/)\n",
        "##### GitHub: [@gilesitorr](https://github.com/gilesitorr)"
      ],
      "metadata": {
        "id": "rAmTTJIpA4kr"
      }
    },
    {
      "cell_type": "markdown",
      "source": [
        "###### __Ábreme__"
      ],
      "metadata": {
        "id": "QsOd5nJfEACY"
      }
    },
    {
      "cell_type": "markdown",
      "source": [
        "![Competencias de ML 🥵](https://lh3.googleusercontent.com/fife/AAbDypAAtkyd6jmHBVdCgiDF9fctouvPWm_fyMtPUmFYxb0-bWXs8gbzI2Qlqk8mLb4p294lofaxHJUqtcWs7RV7cZXpkcxRvESPh0KbWpETn6y3Q37BYhGOEsjMvZy6aPX4RcEJlLPav6lC5D89Cev2a2mPfEy50HQZZMwXVgcCEgQuSGBeYcVkkJH3BianNA9QiTD9Hwa9Wr8coFuQSxZ2hnT4ZjXVBFD0uiGDyZPBCDLnkK7QFOGXaanEtRybuYgD4oLxJY5ZdS_dAD8i6AjghKfFaz6XRef7y1q9UdrZCszjJ1oMh4s4Ee3eS028uiFXs5GpzcrLVYNh95txSDAvoe73_g85ehjn52YQBXSYVnljI4FaNC_ndrTMmBvn3ml7C9BIxjskXHC-UyJ-5bFwyKnureJFvng4KB8cv8iiPBrAWy4Ez8dJdnFUB4KqG5uICRwdJboMuQM2rI_6eUhlk2MnyoNUF55qJ8ehiSxzxI8n8eHJx_c7r_Cx_6TexscBiE0XzmZHpkNHzhG3hqAO4AZKQJGrYCWxwpxFNZPxYcT2gQ7jAv4Yd8FJb1BmMT70j4XC8ZRq6iNnTS7OF9s5vcKep28gfFKLyeLr9ePQk7Z2OfKrjvstcjfr6GKAM7e2e8i7i_gj9UcuZcUTjbAdngWIiPwy0GC2nEA93-jA3Cpzre29guebU-hJxiDchXybJJmWomKfmA7xR44EiSeev1DUNK4rhcX49CGRhs0gx0ef-6U-ZeIVTaQUZw4FaKJK-ntA4Yt2OSfqVu_Cqb3SDIVLTjBT6Ds9DCuw5GDiUxQsxB9VHWYgQTHywJIVjAWqwjn36X--5EIFyj23p-0xPrMka_kf-N5Ed79mpXB2sc5WUDPLLbMGem3nUUm2-ORRjfRx-6vY8wx7g2Zs252lEn1H8fdeRefuYMqWlYYYl4-zlD_U7_nsIZ9uKoe0wJAikWfnbv-5d-zDdXOaqgoZW3_KjaD77STgQqI3Xn8k5gyFQCy86NkSLWN5dh4MqOvNP2Ijg1eycCBqOOsLvWTKQpHaREhvY3reDWaMKbt6NnOEXWJOfMoXnggajs1xpSN7pCwTKbBz06GtI1fmcGS3IJ2wmeszFBq_FouNuRYqAPfS5KpdGmj-y4DBJ2oDLW1YepStKE8ZbbY2PBPre74xWNS-4FHP19TvbN9DmLfXWLR1ewZrkxZjotXbV3D8gZX4BQPCMsdGRp81_Y9c3_bWAsmhtBGZRdpCRS2A_1qnfiwyIY7MSDjCrZ-6uJ8CKkfBKorZkPFhzJPsHQjUO9B_k4Bka-44QFr-x6i9jKKCiC83kjRqknW9otQbOG_ja-3jfgLImtHUPPWkhYraLJd5Aem-nfxvTNwnkN6FTlLWVeaVZMSDaFkCv1bsgX4eeYkpxmTXzDO07TfCZ5H8SFIdb-YHvb2WPIADTaAUDj25ZBG28xdjdBw4kKVai0eedIai7yunC7diBIjcGBjXLPRn_k8ADvvKa7ge-92Lfmx3xVGjumZL7rUidFlWDni6jlahiXxbh0Pfqa_CyXzX2TLXK3le835xjg=w1424-h970)"
      ],
      "metadata": {
        "id": "zsICc0y0FLm1"
      }
    },
    {
      "cell_type": "markdown",
      "source": [
        "## Los problemas más comunes en el Machine Learning 👀📈📊"
      ],
      "metadata": {
        "id": "oQSWR9SBieAi"
      }
    },
    {
      "cell_type": "markdown",
      "source": [
        "![ML](https://lh3.googleusercontent.com/fife/AAbDypDQcGp1cAkhQ2_7SXblUmnDviKinDgInTpu2MwwBbtNaRaSIrIxh-R0j87XjNgOcByag35zgkCwhhIo7cm16zNw7-x0OwCTpLs-lFfrDafozXF2TWfMlAyorHdt2GrhrxTfnjrjzI5ytI91h-ngvSBvf655QK5Jr6KlGM6qOl1EJphUnpvZKmAqc0gWLuEpZpsvd5ik-ACbxvkM7MsedkXmTM_gvzBvqc6Praj6DcrdHZQcnfLlxLmac58R-hNCqYDZRppbM9xXwjiZDWTaWYpTVNM2u939xBs_lt61FTcM2hqBzktwNbahYibDfV6OGC-_bEdvjGRkjce4RZV-8Ewz6Uy9pwnSLnez-6usO2pOdARP0Tw8y0ex7GvyhtYjOxH8Y0ygSTCYKD5N2ioZEVHH0iDWbu3S1JW9cv4HYl99QmRAYaED7vA3TkHHX4QSmbxpkN3eymwwCeezMt4ZALyBhhCMaBD8ZaINJHTliBJWxb1RwoN6JBTPuzCoYnWMSdC0KcQJ1XzL5GG8B1GCSTb5ROHTSH73jwTvp9V1T-3Ecb0wiLpb1T9ndvTaDeqK7p27Qat3p-eAtVI-aBkTVkhwJQWEDwcErNp6HCMaqR7pgKYnPRUc37HuDLPlcB2D05WW1ZAok23SUEvkvtM3dPn8LMVApH_k4vZOvRe4Dk_AdW-tkGrkA4I1pKqC-qlZZgHVbUZ75q0zcYfm6oxXXC0xs1I3nwlivSVLZGCj495k4Mou6ZFbsQDLnnmg5qtMsWI8g7KdTsHz4Z8PfEUFjPeeefOIbEUqbA4YjFlcSj_6ZZBfthmFO2OyEhbtD9FEN7bNAbqA7GzaootSSemj-8A3k1Kh3QLJF8McCVyu_7nQRdYd8boN7c-DHBoKlDmnl4nOxHXkZzd8MKKtdIlA0iIokYMMRoOXHWtBk7Oi6c1srrROZ0c06i3t59B3gBooJNmBq5zZ22WFNIwoQu_a2ZLmwFM3V9xpCY5MqVt6DASASpmbFi85hlV75OoksHPtuvUOoguNjXnLSQe2T2CD8EHGzLwfAOZ92jzGQEV_4MiCiyVXniGs96XZy2-muNabYbUAuGBMAfvo55ilQwi6fnrdZmyyAIMaz0elp1QASfrAkz9BCt2Z0IYDFcZpgKEXhgLIuF_lAs9tqabO__snqcp75yAlwx4dhwrsxCTl0mEMXqD0WTWe3nWi9itMpbzU2OvfGWBMRI2sGpKQ95LOHK-mV88WBfWVvOvZZ7wmSx75zJVRQPw33MPKJelfZlFNq4tY3XT4Lw-FLSmSWKXhvVoEz_76jEATz1gueiIi4XjtxnAfEQXDJDiSHeZe5xku0EVBN09NHk9C3RFO_yMRj8AjBEjGk4TsaftJWJKzqFMtLdZ5AVwFQqnZ7K8zGE2H_v4ZCyp2Ov74qLUnIUzHEQh0s2z_rc9hp8P_5e-W9dE4mEmVSRO1ac3iweaIjOSMXO_j1jXBziHUgp48Mh8IJlxFDkh8DMNTQygQwBVZFDbHIMPW_xG-QIG2kui0HcpW5z4G-pNPRVcF-8hUj01jrLLAjtyiOw=w870-h642)\n",
        "\n",
        "[Fuente](https://www.enjoyalgorithms.com/blogs/classification-and-regression-in-machine-learning)"
      ],
      "metadata": {
        "id": "cM7C49kVjBP6"
      }
    },
    {
      "cell_type": "markdown",
      "source": [
        "__Guía rápida:__\n",
        "\n",
        "Dos extremos\n",
        "*   Intento predecir un valor \"_continuo_\" -> __Regresión__\n",
        "  - i.e.: ¿Cuál es la temperatura? ¿A cuántos grados estamos hoy?\n",
        "*   No es continuo ni ordinal -> __Clasificación__\n",
        "  - i.e.: ¿Tienes un perro o un gato?\n",
        "\n",
        "\n",
        "\n",
        "El punto medio:\n",
        "*   No es continuo pero puedo ordenarlo -> Podría ser ambos, dependiendo de lo que se quiera hacer\n",
        "  - i.e.: Del 1 al 10 ($\\in \\mathbf{N}$), ¿Cómo te sientes hoy?\n",
        "\n"
      ],
      "metadata": {
        "id": "8HwwvkEpjyoX"
      }
    },
    {
      "cell_type": "markdown",
      "source": [
        "## La librería mágica para Machine Learning ✨✨✨"
      ],
      "metadata": {
        "id": "2NRDuAa4AOUL"
      }
    },
    {
      "cell_type": "markdown",
      "source": [
        "__Contexto__:\n",
        "\n",
        "\n",
        "1.   [El Dataset está aquí](https://www.kaggle.com/datasets/fedesoriano/airfoil-selfnoise-dataset)\n",
        "2.   [El artículo sobre el Dataset](https://ntrs.nasa.gov/api/citations/19890016302/downloads/19890016302.pdf)\n",
        "3.   [Un ejemplo usando redes neuronales](https://www.neuraldesigner.com/learning/examples/airfoil-self-noise-prediction )\n"
      ],
      "metadata": {
        "id": "3mQiK95JB0Ul"
      }
    },
    {
      "cell_type": "code",
      "execution_count": 1,
      "metadata": {
        "id": "FH_G5bVc_yMa"
      },
      "outputs": [],
      "source": [
        "# Se importa la librería para leer el dataset\n",
        "import pandas as pd\n",
        "\n",
        "# Se lee el dataset\n",
        "df = pd.read_csv('https://raw.githubusercontent.com/gilesitorr/tu_introduccion_al_ML_competitivo/main/AirfoilSelfNoise.csv')"
      ]
    },
    {
      "cell_type": "code",
      "source": [
        "# Mostramos la tabla\n",
        "df.head(5)"
      ],
      "metadata": {
        "colab": {
          "base_uri": "https://localhost:8080/",
          "height": 206
        },
        "id": "Rf4Xtm3WgZlJ",
        "outputId": "d9309f00-e0a9-4efb-d3bf-4e5fe9a142da"
      },
      "execution_count": 4,
      "outputs": [
        {
          "output_type": "execute_result",
          "data": {
            "text/plain": [
              "      f  alpha       c  U_infinity     delta     SSPL\n",
              "0   800    0.0  0.3048        71.3  0.002663  126.201\n",
              "1  1000    0.0  0.3048        71.3  0.002663  125.201\n",
              "2  1250    0.0  0.3048        71.3  0.002663  125.951\n",
              "3  1600    0.0  0.3048        71.3  0.002663  127.591\n",
              "4  2000    0.0  0.3048        71.3  0.002663  127.461"
            ],
            "text/html": [
              "\n",
              "  <div id=\"df-a91c6091-225a-4563-866a-197db2fa9f47\">\n",
              "    <div class=\"colab-df-container\">\n",
              "      <div>\n",
              "<style scoped>\n",
              "    .dataframe tbody tr th:only-of-type {\n",
              "        vertical-align: middle;\n",
              "    }\n",
              "\n",
              "    .dataframe tbody tr th {\n",
              "        vertical-align: top;\n",
              "    }\n",
              "\n",
              "    .dataframe thead th {\n",
              "        text-align: right;\n",
              "    }\n",
              "</style>\n",
              "<table border=\"1\" class=\"dataframe\">\n",
              "  <thead>\n",
              "    <tr style=\"text-align: right;\">\n",
              "      <th></th>\n",
              "      <th>f</th>\n",
              "      <th>alpha</th>\n",
              "      <th>c</th>\n",
              "      <th>U_infinity</th>\n",
              "      <th>delta</th>\n",
              "      <th>SSPL</th>\n",
              "    </tr>\n",
              "  </thead>\n",
              "  <tbody>\n",
              "    <tr>\n",
              "      <th>0</th>\n",
              "      <td>800</td>\n",
              "      <td>0.0</td>\n",
              "      <td>0.3048</td>\n",
              "      <td>71.3</td>\n",
              "      <td>0.002663</td>\n",
              "      <td>126.201</td>\n",
              "    </tr>\n",
              "    <tr>\n",
              "      <th>1</th>\n",
              "      <td>1000</td>\n",
              "      <td>0.0</td>\n",
              "      <td>0.3048</td>\n",
              "      <td>71.3</td>\n",
              "      <td>0.002663</td>\n",
              "      <td>125.201</td>\n",
              "    </tr>\n",
              "    <tr>\n",
              "      <th>2</th>\n",
              "      <td>1250</td>\n",
              "      <td>0.0</td>\n",
              "      <td>0.3048</td>\n",
              "      <td>71.3</td>\n",
              "      <td>0.002663</td>\n",
              "      <td>125.951</td>\n",
              "    </tr>\n",
              "    <tr>\n",
              "      <th>3</th>\n",
              "      <td>1600</td>\n",
              "      <td>0.0</td>\n",
              "      <td>0.3048</td>\n",
              "      <td>71.3</td>\n",
              "      <td>0.002663</td>\n",
              "      <td>127.591</td>\n",
              "    </tr>\n",
              "    <tr>\n",
              "      <th>4</th>\n",
              "      <td>2000</td>\n",
              "      <td>0.0</td>\n",
              "      <td>0.3048</td>\n",
              "      <td>71.3</td>\n",
              "      <td>0.002663</td>\n",
              "      <td>127.461</td>\n",
              "    </tr>\n",
              "  </tbody>\n",
              "</table>\n",
              "</div>\n",
              "      <button class=\"colab-df-convert\" onclick=\"convertToInteractive('df-a91c6091-225a-4563-866a-197db2fa9f47')\"\n",
              "              title=\"Convert this dataframe to an interactive table.\"\n",
              "              style=\"display:none;\">\n",
              "        \n",
              "  <svg xmlns=\"http://www.w3.org/2000/svg\" height=\"24px\"viewBox=\"0 0 24 24\"\n",
              "       width=\"24px\">\n",
              "    <path d=\"M0 0h24v24H0V0z\" fill=\"none\"/>\n",
              "    <path d=\"M18.56 5.44l.94 2.06.94-2.06 2.06-.94-2.06-.94-.94-2.06-.94 2.06-2.06.94zm-11 1L8.5 8.5l.94-2.06 2.06-.94-2.06-.94L8.5 2.5l-.94 2.06-2.06.94zm10 10l.94 2.06.94-2.06 2.06-.94-2.06-.94-.94-2.06-.94 2.06-2.06.94z\"/><path d=\"M17.41 7.96l-1.37-1.37c-.4-.4-.92-.59-1.43-.59-.52 0-1.04.2-1.43.59L10.3 9.45l-7.72 7.72c-.78.78-.78 2.05 0 2.83L4 21.41c.39.39.9.59 1.41.59.51 0 1.02-.2 1.41-.59l7.78-7.78 2.81-2.81c.8-.78.8-2.07 0-2.86zM5.41 20L4 18.59l7.72-7.72 1.47 1.35L5.41 20z\"/>\n",
              "  </svg>\n",
              "      </button>\n",
              "      \n",
              "  <style>\n",
              "    .colab-df-container {\n",
              "      display:flex;\n",
              "      flex-wrap:wrap;\n",
              "      gap: 12px;\n",
              "    }\n",
              "\n",
              "    .colab-df-convert {\n",
              "      background-color: #E8F0FE;\n",
              "      border: none;\n",
              "      border-radius: 50%;\n",
              "      cursor: pointer;\n",
              "      display: none;\n",
              "      fill: #1967D2;\n",
              "      height: 32px;\n",
              "      padding: 0 0 0 0;\n",
              "      width: 32px;\n",
              "    }\n",
              "\n",
              "    .colab-df-convert:hover {\n",
              "      background-color: #E2EBFA;\n",
              "      box-shadow: 0px 1px 2px rgba(60, 64, 67, 0.3), 0px 1px 3px 1px rgba(60, 64, 67, 0.15);\n",
              "      fill: #174EA6;\n",
              "    }\n",
              "\n",
              "    [theme=dark] .colab-df-convert {\n",
              "      background-color: #3B4455;\n",
              "      fill: #D2E3FC;\n",
              "    }\n",
              "\n",
              "    [theme=dark] .colab-df-convert:hover {\n",
              "      background-color: #434B5C;\n",
              "      box-shadow: 0px 1px 3px 1px rgba(0, 0, 0, 0.15);\n",
              "      filter: drop-shadow(0px 1px 2px rgba(0, 0, 0, 0.3));\n",
              "      fill: #FFFFFF;\n",
              "    }\n",
              "  </style>\n",
              "\n",
              "      <script>\n",
              "        const buttonEl =\n",
              "          document.querySelector('#df-a91c6091-225a-4563-866a-197db2fa9f47 button.colab-df-convert');\n",
              "        buttonEl.style.display =\n",
              "          google.colab.kernel.accessAllowed ? 'block' : 'none';\n",
              "\n",
              "        async function convertToInteractive(key) {\n",
              "          const element = document.querySelector('#df-a91c6091-225a-4563-866a-197db2fa9f47');\n",
              "          const dataTable =\n",
              "            await google.colab.kernel.invokeFunction('convertToInteractive',\n",
              "                                                     [key], {});\n",
              "          if (!dataTable) return;\n",
              "\n",
              "          const docLinkHtml = 'Like what you see? Visit the ' +\n",
              "            '<a target=\"_blank\" href=https://colab.research.google.com/notebooks/data_table.ipynb>data table notebook</a>'\n",
              "            + ' to learn more about interactive tables.';\n",
              "          element.innerHTML = '';\n",
              "          dataTable['output_type'] = 'display_data';\n",
              "          await google.colab.output.renderOutput(dataTable, element);\n",
              "          const docLink = document.createElement('div');\n",
              "          docLink.innerHTML = docLinkHtml;\n",
              "          element.appendChild(docLink);\n",
              "        }\n",
              "      </script>\n",
              "    </div>\n",
              "  </div>\n",
              "  "
            ]
          },
          "metadata": {},
          "execution_count": 4
        }
      ]
    },
    {
      "cell_type": "code",
      "source": [
        "# De Kaggle sabemos que intentamos predecir es 'SSPL'\n",
        "\n",
        "# Separamos la variable objetivo y las variables independientes\n",
        "X = df.drop(columns=['SSPL']) # Variables independientes\n",
        "y = df['SSPL'] # Variable objetivo"
      ],
      "metadata": {
        "id": "iIZMZy7rfHci"
      },
      "execution_count": 10,
      "outputs": []
    },
    {
      "cell_type": "code",
      "source": [
        "# Siempre que voy a entrenar un modelo de Machine Learning,\n",
        "# es necesario tener data de entrenamiento y data de validación o de prueba\n",
        "\n",
        "# Vamos a separar nuestros datos en un conjunto de entrenamiento y otro de prueba\n",
        "from sklearn.model_selection import train_test_split\n",
        "X_train, X_test, y_train, y_test = train_test_split(X, y, # Las variables\n",
        "                                                    test_size=0.30, # La proporción del conjunto de entrenamiento respecto al dataset completo\n",
        "                                                    random_state=42, # Una semilla de números aleatorios\n",
        "                                                    shuffle=False) # Un parámetro para saber si "
      ],
      "metadata": {
        "id": "0Aw5mDv-m1uk"
      },
      "execution_count": 11,
      "outputs": []
    },
    {
      "cell_type": "markdown",
      "source": [
        "[Imágenes sobre el train test split](https://www.google.com/search?q=train+test+split&client=opera&hs=D78&source=lnms&tbm=isch&sa=X&ved=2ahUKEwiegq2nh6j7AhV4l2oFHS4HCNkQ_AUoAXoECAIQAw&cshid=1668236150937433&biw=1326&bih=658&dpr=1#imgrc=mlVZLHa5TH_4vM)"
      ],
      "metadata": {
        "id": "-zvPc5QNoGxf"
      }
    },
    {
      "cell_type": "code",
      "source": [
        "# Nos encontramos ante un problema de regresión\n",
        "\n",
        "# El primer modelo que vamos a probar es la REGRESIÓN lineal\n",
        "from sklearn.linear_model import LinearRegression\n",
        "\n",
        "reg = LinearRegression() # Se define el modelo\n",
        "reg.fit(X_train, y_train) # Se ajusta el modelo con la data de entrenamiento"
      ],
      "metadata": {
        "colab": {
          "base_uri": "https://localhost:8080/"
        },
        "id": "ma_6s5nCh8r8",
        "outputId": "dfc1e251-65b2-4b67-a1de-2e63bbd40ab4"
      },
      "execution_count": 13,
      "outputs": [
        {
          "output_type": "execute_result",
          "data": {
            "text/plain": [
              "LinearRegression()"
            ]
          },
          "metadata": {},
          "execution_count": 13
        }
      ]
    },
    {
      "cell_type": "code",
      "source": [
        "# Los parámetros del modelo\n",
        "reg.coef_"
      ],
      "metadata": {
        "colab": {
          "base_uri": "https://localhost:8080/"
        },
        "id": "Y3eRUIH8pLIj",
        "outputId": "1ea1f664-3b9f-4d45-a057-0a3212eb4d3f"
      },
      "execution_count": 14,
      "outputs": [
        {
          "output_type": "execute_result",
          "data": {
            "text/plain": [
              "array([-1.24775529e-03, -3.69837557e-01, -3.58119488e+01,  9.85240977e-02,\n",
              "       -1.76956244e+02])"
            ]
          },
          "metadata": {},
          "execution_count": 14
        }
      ]
    },
    {
      "cell_type": "code",
      "source": [
        "# Para entender a qué variable corresponde cada parámetro\n",
        "X.columns"
      ],
      "metadata": {
        "colab": {
          "base_uri": "https://localhost:8080/"
        },
        "id": "XuQCwEKiphDY",
        "outputId": "f4499dad-570c-430d-a2a6-780513c04f0f"
      },
      "execution_count": 16,
      "outputs": [
        {
          "output_type": "execute_result",
          "data": {
            "text/plain": [
              "Index(['f', 'alpha', 'c', 'U_infinity', 'delta'], dtype='object')"
            ]
          },
          "metadata": {},
          "execution_count": 16
        }
      ]
    },
    {
      "cell_type": "code",
      "source": [
        "# La intersección con las ordenadas\n",
        "# i.e.: la 'b' del 'y=mx+b'\n",
        "reg.intercept_"
      ],
      "metadata": {
        "colab": {
          "base_uri": "https://localhost:8080/"
        },
        "id": "c20VYigXpXZk",
        "outputId": "ecd1d882-97ab-44b3-f6c9-530c5558b38c"
      },
      "execution_count": 15,
      "outputs": [
        {
          "output_type": "execute_result",
          "data": {
            "text/plain": [
              "132.7803351334695"
            ]
          },
          "metadata": {},
          "execution_count": 15
        }
      ]
    },
    {
      "cell_type": "code",
      "source": [
        "# Para hacer predicciones\n",
        "y_pred = reg.predict(X_test)"
      ],
      "metadata": {
        "id": "gQyVCUdtqFiZ"
      },
      "execution_count": 21,
      "outputs": []
    },
    {
      "cell_type": "code",
      "source": [
        "# Para calcular el R^2 del modelo en la data de entrenamiento\n",
        "reg.score(X_train, y_train)"
      ],
      "metadata": {
        "colab": {
          "base_uri": "https://localhost:8080/"
        },
        "id": "TzLIqYfSpq_a",
        "outputId": "f57878fc-1d79-4c0e-f00c-c60c5b5116ad"
      },
      "execution_count": 17,
      "outputs": [
        {
          "output_type": "execute_result",
          "data": {
            "text/plain": [
              "0.5572922353791421"
            ]
          },
          "metadata": {},
          "execution_count": 17
        }
      ]
    },
    {
      "cell_type": "code",
      "source": [
        "# Para calcular el R^2 del modelo en la data de validación\n",
        "reg.score(X_test, y_test)"
      ],
      "metadata": {
        "colab": {
          "base_uri": "https://localhost:8080/"
        },
        "id": "dH90glwhp8op",
        "outputId": "66be53c4-8ebc-4662-bb8a-7f20f2424b68"
      },
      "execution_count": 18,
      "outputs": [
        {
          "output_type": "execute_result",
          "data": {
            "text/plain": [
              "0.41203669777068563"
            ]
          },
          "metadata": {},
          "execution_count": 18
        }
      ]
    },
    {
      "cell_type": "code",
      "source": [
        "# ¿Por qué no funciona tan bien el modelo?\n",
        "\n",
        "# Vamos a ver unas gráficas\n",
        "import matplotlib.pyplot as plt\n",
        "plt.scatter(X['f'], y)\n",
        "plt.show()"
      ],
      "metadata": {
        "colab": {
          "base_uri": "https://localhost:8080/",
          "height": 265
        },
        "id": "HaKbGQ_lrhIR",
        "outputId": "7418997c-b6a8-4581-bd5e-86f2c89b0607"
      },
      "execution_count": 26,
      "outputs": [
        {
          "output_type": "display_data",
          "data": {
            "text/plain": [
              "<Figure size 432x288 with 1 Axes>"
            ],
            "image/png": "[encoded data removed]"
          },
          "metadata": {
            "needs_background": "light"
          }
        }
      ]
    },
    {
      "cell_type": "markdown",
      "source": [
        "[Para saber más sobre la regresión lineal en Scikit-Learn](https://scikit-learn.org/stable/modules/generated/sklearn.linear_model.LinearRegression.html)"
      ],
      "metadata": {
        "id": "CsWnVzjArGjw"
      }
    },
    {
      "cell_type": "code",
      "source": [
        "# Parece ser que la variable objetivo no es \"tan lineal\"\n",
        "# con respecto a las variables independientes\n",
        "\n",
        "# Intentemos un algoritmo útil para fenómenos no lineales\n",
        "from sklearn.tree import DecisionTreeRegressor\n",
        "\n",
        "tree_reg = DecisionTreeRegressor(max_depth=2) # Se define el modelo\n",
        "tree_reg.fit(X_train, y_train) # Se ajusta el modelo con la data de entrenamiento"
      ],
      "metadata": {
        "colab": {
          "base_uri": "https://localhost:8080/"
        },
        "id": "AQAjORcEpCNH",
        "outputId": "efd3dd45-403d-4fef-d6a3-2ab531beeb54"
      },
      "execution_count": 40,
      "outputs": [
        {
          "output_type": "execute_result",
          "data": {
            "text/plain": [
              "DecisionTreeRegressor(max_depth=2)"
            ]
          },
          "metadata": {},
          "execution_count": 40
        }
      ]
    },
    {
      "cell_type": "code",
      "source": [
        "tree_reg.score(X_train, y_train)"
      ],
      "metadata": {
        "colab": {
          "base_uri": "https://localhost:8080/"
        },
        "id": "L1WdY_ZWtgBh",
        "outputId": "4b13e13a-7776-4fef-f66f-ca7f642af6e1"
      },
      "execution_count": 41,
      "outputs": [
        {
          "output_type": "execute_result",
          "data": {
            "text/plain": [
              "0.5186468892980804"
            ]
          },
          "metadata": {},
          "execution_count": 41
        }
      ]
    },
    {
      "cell_type": "code",
      "source": [
        "tree_reg.score(X_test, y_test)"
      ],
      "metadata": {
        "colab": {
          "base_uri": "https://localhost:8080/"
        },
        "id": "fSeHBs6TtlKa",
        "outputId": "85d08ef6-269d-4c32-a401-79ac39b75904"
      },
      "execution_count": 42,
      "outputs": [
        {
          "output_type": "execute_result",
          "data": {
            "text/plain": [
              "0.05956063136041845"
            ]
          },
          "metadata": {},
          "execution_count": 42
        }
      ]
    },
    {
      "cell_type": "markdown",
      "source": [
        "[Para saber más sobre el Decision Tree para REGRESIONES](https://scikit-learn.org/stable/modules/generated/sklearn.tree.DecisionTreeRegressor.html#sklearn.tree.DecisionTreeRegressor:)"
      ],
      "metadata": {
        "id": "qGxg9txgsjwz"
      }
    },
    {
      "cell_type": "code",
      "source": [
        "# Igual y un solo decision tree es suficiente\n",
        "# Intentemos un \"bosque\" completo 8)\n",
        "\n",
        "# FUN FACT: Los modelos que se componen de otros modelos se conocen como ENSAMBLES\n",
        "# El random forest y todas sus variantes son ENSAMBLES de Decision Trees\n",
        "from sklearn.ensemble import RandomForestRegressor\n",
        "\n",
        "rf_reg = RandomForestRegressor(n_estimators=100, max_depth=2, random_state=0) # Se define el modelo\n",
        "rf_reg.fit(X_train, y_train) # Se ajusta el modelo con la data de entrenamiento"
      ],
      "metadata": {
        "colab": {
          "base_uri": "https://localhost:8080/"
        },
        "id": "E0Dka-5Rt3bO",
        "outputId": "ba3ec652-4b06-4517-fe50-37b642cca56d"
      },
      "execution_count": 61,
      "outputs": [
        {
          "output_type": "execute_result",
          "data": {
            "text/plain": [
              "RandomForestRegressor(max_depth=2, random_state=0)"
            ]
          },
          "metadata": {},
          "execution_count": 61
        }
      ]
    },
    {
      "cell_type": "code",
      "source": [
        "rf_reg.score(X_train, y_train)"
      ],
      "metadata": {
        "colab": {
          "base_uri": "https://localhost:8080/"
        },
        "id": "Dr1p7qCtuBoY",
        "outputId": "81c5985e-761b-47b2-bc44-5ab90f2d76cd"
      },
      "execution_count": 62,
      "outputs": [
        {
          "output_type": "execute_result",
          "data": {
            "text/plain": [
              "0.5706006840479674"
            ]
          },
          "metadata": {},
          "execution_count": 62
        }
      ]
    },
    {
      "cell_type": "code",
      "source": [
        "rf_reg.score(X_test, y_test)"
      ],
      "metadata": {
        "colab": {
          "base_uri": "https://localhost:8080/"
        },
        "id": "BJMdowFyt32-",
        "outputId": "987fe198-37c3-4d6b-e299-6176fed6eb08"
      },
      "execution_count": 63,
      "outputs": [
        {
          "output_type": "execute_result",
          "data": {
            "text/plain": [
              "0.1454433648219473"
            ]
          },
          "metadata": {},
          "execution_count": 63
        }
      ]
    },
    {
      "cell_type": "markdown",
      "source": [
        "[Para saber más sobre el Random Forest para REGRESIONES](https://scikit-learn.org/stable/modules/generated/sklearn.ensemble.RandomForestRegressor.html)"
      ],
      "metadata": {
        "id": "VNEfV2dKt5JQ"
      }
    },
    {
      "cell_type": "markdown",
      "source": [
        "###### __Ábreme__"
      ],
      "metadata": {
        "id": "eq-GyIPMGnTB"
      }
    },
    {
      "cell_type": "markdown",
      "source": [
        "![Kaggle 🥵](https://lh3.googleusercontent.com/fife/AAbDypCdv5PvdZ8rJXjRxx7OuVz8ZsEXJrnH1ysfeKviSbV2bKMxxr5OjOez5jZAWbuV0c7oPaFNlHepgiqmd14EqyHFOVabjemscljef0YPPSi9oay8ZGCOgmWVoMXVSp3ykPqt5qqT6G08E-ebiJdmu3HbH2AHGYql9gh8kdQn44n3mhRhQIa31mKsevNA16w6MhgnFV-IuM2TXECqWTNvYDXQI4I03_DYn49sCMKV2UJtfP47yjtnENLpNN3c7egIrWgGnr8ChNsKc7xSrySPVz_e5E08uhqH3KptSXQWHhYIZuFrBtzRUr6fpBdcWeDn-WSAWC0F-PGcFbpKlpu520wumJIfntL7Gp7WJm-R09DEVpLhJiixsyfymG0aOHfLCLshJaHCd5xrwKqV3bUH23KlTNQWrkwVgaEUx3evZVh0A3KBRY3vtt8c0i6-El-GN407iXnTe4Qqi05iXnxh1XActMp33yK-aEaZUxxfqEcF-p9Jbc5RJfJ_aA9Qs-GxdG2L70CyhfWuy0hOYCg-A59W8zKAPsuZiA2CMZW4uPUvM02W-9DhK39Z8SCnN48VPP_FJ7ctR8GW45WsgkcrdS5yhsXnh8CqQN2oXjBP4U-qnrO5qzxeV8kBDxdcJpIPmLedjtq6_fi-G6Yij53NrkLSWxPKhppxGh9GktDAY_dFfTSbfdD_V-yoB7elH2YumyURT2Ka01lYeshdtAKduHmZUEG9O0xCFJ6F5a_I48R_ay3DHOUWAEv3gie9B3H-ktgGWdevXcyA2UcO31PoRNgHIeRtGH0xuVK1dYhYoVYmyqattQFbT8ijattPiIbRLtkuIGegU20CUhQP3JIUKsacMjFt00Z0YpHEvCRmMdN4NkHsamV1FP92Ko2fFjmTQtG_0Ddy-5jmgmoOuIrSWvDp4UCg1pZ3McRwfShea0d7QwPoI7OgDkGg0rtxTmoYAKkebYxnAy6gO_n89bl2-IZXpDCTmDEM4ull8cXwEhXkY6MDf3elN8G2cmTDgrs_TQYCzOKTElHjcftMIzGKe8ygRsTwNqZZWoERdsaF-FbTCqFXNT1WqcPFbH0WvAVLKg4WhfKiZrZ3YyUukcVMn_7ya4mUl-oMyabCo38YLoQts92ELnHZMsMwtYqKAJbM7ve3q02xkh7uNmV3h4DRbk_Z3HFPwbsf2FVFH3deLJt6MiuOxgza0k399mRIlHMYfn1Wb2LtuyhRmK2WUjZZgAuEjaGofryxknzMM6VQxlZsm_md0yTarXWeArAn9hVZ15dKJxXlaUZCR1rYZYrYWFSqyJULZ_YOrBb1-uhcha2PWlsLzU5-FAyGCDs1EOZq91hNuFxDMKr_UBO_O9zKf5kHanIqOSG2SmgaaSF-XENNc2un9j1Q6ndz5kItiK2yZkPRji3idsB0ADO6yJnR5PVcK0ieFG_OTbDwI9L9AG-pGovO0oSColMsa_65U2IXfeYF6deosPNvkDIU58hbDqhCB_2OtUc3_w2aRUWn22iewPq4qaPO4HoSXXB9G_8kZeR3eWjfbboETdswABDp5t6X1bijNg=w1424-h970)"
      ],
      "metadata": {
        "id": "7fI7uj-rGZnA"
      }
    },
    {
      "cell_type": "markdown",
      "source": [
        "## El Sloan Digital Sky Survey 🤖🔭⭐"
      ],
      "metadata": {
        "id": "qU44ozPCAkFE"
      }
    },
    {
      "cell_type": "markdown",
      "source": [
        "__Contexto__:\n",
        "\n",
        "\n",
        "1.   [El Sloan Digital Sky Survey](https://en.wikipedia.org/wiki/Sloan_Digital_Sky_Survey )\n",
        "2.   [El Dataset de la __COMPETENCIA__ está aquí](https://www.kaggle.com/competitions/nytfug/overview)"
      ],
      "metadata": {
        "id": "6Vf1LfU8Cokb"
      }
    },
    {
      "cell_type": "code",
      "source": [
        "# En este caso, como fue una competencia, la data ya está separada\n",
        "# Leemos la data de entrenamiento y la de prueba\n",
        "import pandas as pd\n",
        "\n",
        "df_train = pd.read_csv('https://raw.githubusercontent.com/gilesitorr/tu_introduccion_al_ML_competitivo/main/train.csv')\n",
        "df_test = pd.read_csv('https://raw.githubusercontent.com/gilesitorr/tu_introduccion_al_ML_competitivo/main/test.csv')"
      ],
      "metadata": {
        "id": "tbEXOhukBxox"
      },
      "execution_count": 64,
      "outputs": []
    },
    {
      "cell_type": "code",
      "source": [
        "df_train.head(3)"
      ],
      "metadata": {
        "colab": {
          "base_uri": "https://localhost:8080/",
          "height": 207
        },
        "id": "ojs-XNn0yMZF",
        "outputId": "f2ad72a2-2ab4-4c9f-8569-7fe71e0ab0c6"
      },
      "execution_count": 65,
      "outputs": [
        {
          "output_type": "execute_result",
          "data": {
            "text/plain": [
              "   id        obj_ID       alpha      delta         u         g         r  \\\n",
              "0   0  1.237666e+18  223.818272  19.918549  20.01995  18.61652  17.81234   \n",
              "1   1  1.237668e+18  207.866352  21.651873  17.87874  16.72789  16.71315   \n",
              "2   2  1.237679e+18  328.585779   2.229687  27.14565  22.64610  20.92246   \n",
              "\n",
              "          i         z  run_ID  cam_col  field_ID   spec_obj_ID  redshift  \\\n",
              "0  17.36830  17.05670    4678        3       148  3.142504e+18  0.178004   \n",
              "1  16.75816  16.82370    5183        5       490  3.117752e+18 -0.000041   \n",
              "2  19.83694  19.23603    7712        4       120  5.795190e+18  0.558458   \n",
              "\n",
              "   plate    MJD  fiber_ID  label  \n",
              "0   2791  54556       427      0  \n",
              "1   2769  54527       491      2  \n",
              "2   5147  55854       667      0  "
            ],
            "text/html": [
              "\n",
              "  <div id=\"df-ac6acfe5-86ee-4dbd-ad4b-d8cb8155315a\">\n",
              "    <div class=\"colab-df-container\">\n",
              "      <div>\n",
              "<style scoped>\n",
              "    .dataframe tbody tr th:only-of-type {\n",
              "        vertical-align: middle;\n",
              "    }\n",
              "\n",
              "    .dataframe tbody tr th {\n",
              "        vertical-align: top;\n",
              "    }\n",
              "\n",
              "    .dataframe thead th {\n",
              "        text-align: right;\n",
              "    }\n",
              "</style>\n",
              "<table border=\"1\" class=\"dataframe\">\n",
              "  <thead>\n",
              "    <tr style=\"text-align: right;\">\n",
              "      <th></th>\n",
              "      <th>id</th>\n",
              "      <th>obj_ID</th>\n",
              "      <th>alpha</th>\n",
              "      <th>delta</th>\n",
              "      <th>u</th>\n",
              "      <th>g</th>\n",
              "      <th>r</th>\n",
              "      <th>i</th>\n",
              "      <th>z</th>\n",
              "      <th>run_ID</th>\n",
              "      <th>cam_col</th>\n",
              "      <th>field_ID</th>\n",
              "      <th>spec_obj_ID</th>\n",
              "      <th>redshift</th>\n",
              "      <th>plate</th>\n",
              "      <th>MJD</th>\n",
              "      <th>fiber_ID</th>\n",
              "      <th>label</th>\n",
              "    </tr>\n",
              "  </thead>\n",
              "  <tbody>\n",
              "    <tr>\n",
              "      <th>0</th>\n",
              "      <td>0</td>\n",
              "      <td>1.237666e+18</td>\n",
              "      <td>223.818272</td>\n",
              "      <td>19.918549</td>\n",
              "      <td>20.01995</td>\n",
              "      <td>18.61652</td>\n",
              "      <td>17.81234</td>\n",
              "      <td>17.36830</td>\n",
              "      <td>17.05670</td>\n",
              "      <td>4678</td>\n",
              "      <td>3</td>\n",
              "      <td>148</td>\n",
              "      <td>3.142504e+18</td>\n",
              "      <td>0.178004</td>\n",
              "      <td>2791</td>\n",
              "      <td>54556</td>\n",
              "      <td>427</td>\n",
              "      <td>0</td>\n",
              "    </tr>\n",
              "    <tr>\n",
              "      <th>1</th>\n",
              "      <td>1</td>\n",
              "      <td>1.237668e+18</td>\n",
              "      <td>207.866352</td>\n",
              "      <td>21.651873</td>\n",
              "      <td>17.87874</td>\n",
              "      <td>16.72789</td>\n",
              "      <td>16.71315</td>\n",
              "      <td>16.75816</td>\n",
              "      <td>16.82370</td>\n",
              "      <td>5183</td>\n",
              "      <td>5</td>\n",
              "      <td>490</td>\n",
              "      <td>3.117752e+18</td>\n",
              "      <td>-0.000041</td>\n",
              "      <td>2769</td>\n",
              "      <td>54527</td>\n",
              "      <td>491</td>\n",
              "      <td>2</td>\n",
              "    </tr>\n",
              "    <tr>\n",
              "      <th>2</th>\n",
              "      <td>2</td>\n",
              "      <td>1.237679e+18</td>\n",
              "      <td>328.585779</td>\n",
              "      <td>2.229687</td>\n",
              "      <td>27.14565</td>\n",
              "      <td>22.64610</td>\n",
              "      <td>20.92246</td>\n",
              "      <td>19.83694</td>\n",
              "      <td>19.23603</td>\n",
              "      <td>7712</td>\n",
              "      <td>4</td>\n",
              "      <td>120</td>\n",
              "      <td>5.795190e+18</td>\n",
              "      <td>0.558458</td>\n",
              "      <td>5147</td>\n",
              "      <td>55854</td>\n",
              "      <td>667</td>\n",
              "      <td>0</td>\n",
              "    </tr>\n",
              "  </tbody>\n",
              "</table>\n",
              "</div>\n",
              "      <button class=\"colab-df-convert\" onclick=\"convertToInteractive('df-ac6acfe5-86ee-4dbd-ad4b-d8cb8155315a')\"\n",
              "              title=\"Convert this dataframe to an interactive table.\"\n",
              "              style=\"display:none;\">\n",
              "        \n",
              "  <svg xmlns=\"http://www.w3.org/2000/svg\" height=\"24px\"viewBox=\"0 0 24 24\"\n",
              "       width=\"24px\">\n",
              "    <path d=\"M0 0h24v24H0V0z\" fill=\"none\"/>\n",
              "    <path d=\"M18.56 5.44l.94 2.06.94-2.06 2.06-.94-2.06-.94-.94-2.06-.94 2.06-2.06.94zm-11 1L8.5 8.5l.94-2.06 2.06-.94-2.06-.94L8.5 2.5l-.94 2.06-2.06.94zm10 10l.94 2.06.94-2.06 2.06-.94-2.06-.94-.94-2.06-.94 2.06-2.06.94z\"/><path d=\"M17.41 7.96l-1.37-1.37c-.4-.4-.92-.59-1.43-.59-.52 0-1.04.2-1.43.59L10.3 9.45l-7.72 7.72c-.78.78-.78 2.05 0 2.83L4 21.41c.39.39.9.59 1.41.59.51 0 1.02-.2 1.41-.59l7.78-7.78 2.81-2.81c.8-.78.8-2.07 0-2.86zM5.41 20L4 18.59l7.72-7.72 1.47 1.35L5.41 20z\"/>\n",
              "  </svg>\n",
              "      </button>\n",
              "      \n",
              "  <style>\n",
              "    .colab-df-container {\n",
              "      display:flex;\n",
              "      flex-wrap:wrap;\n",
              "      gap: 12px;\n",
              "    }\n",
              "\n",
              "    .colab-df-convert {\n",
              "      background-color: #E8F0FE;\n",
              "      border: none;\n",
              "      border-radius: 50%;\n",
              "      cursor: pointer;\n",
              "      display: none;\n",
              "      fill: #1967D2;\n",
              "      height: 32px;\n",
              "      padding: 0 0 0 0;\n",
              "      width: 32px;\n",
              "    }\n",
              "\n",
              "    .colab-df-convert:hover {\n",
              "      background-color: #E2EBFA;\n",
              "      box-shadow: 0px 1px 2px rgba(60, 64, 67, 0.3), 0px 1px 3px 1px rgba(60, 64, 67, 0.15);\n",
              "      fill: #174EA6;\n",
              "    }\n",
              "\n",
              "    [theme=dark] .colab-df-convert {\n",
              "      background-color: #3B4455;\n",
              "      fill: #D2E3FC;\n",
              "    }\n",
              "\n",
              "    [theme=dark] .colab-df-convert:hover {\n",
              "      background-color: #434B5C;\n",
              "      box-shadow: 0px 1px 3px 1px rgba(0, 0, 0, 0.15);\n",
              "      filter: drop-shadow(0px 1px 2px rgba(0, 0, 0, 0.3));\n",
              "      fill: #FFFFFF;\n",
              "    }\n",
              "  </style>\n",
              "\n",
              "      <script>\n",
              "        const buttonEl =\n",
              "          document.querySelector('#df-ac6acfe5-86ee-4dbd-ad4b-d8cb8155315a button.colab-df-convert');\n",
              "        buttonEl.style.display =\n",
              "          google.colab.kernel.accessAllowed ? 'block' : 'none';\n",
              "\n",
              "        async function convertToInteractive(key) {\n",
              "          const element = document.querySelector('#df-ac6acfe5-86ee-4dbd-ad4b-d8cb8155315a');\n",
              "          const dataTable =\n",
              "            await google.colab.kernel.invokeFunction('convertToInteractive',\n",
              "                                                     [key], {});\n",
              "          if (!dataTable) return;\n",
              "\n",
              "          const docLinkHtml = 'Like what you see? Visit the ' +\n",
              "            '<a target=\"_blank\" href=https://colab.research.google.com/notebooks/data_table.ipynb>data table notebook</a>'\n",
              "            + ' to learn more about interactive tables.';\n",
              "          element.innerHTML = '';\n",
              "          dataTable['output_type'] = 'display_data';\n",
              "          await google.colab.output.renderOutput(dataTable, element);\n",
              "          const docLink = document.createElement('div');\n",
              "          docLink.innerHTML = docLinkHtml;\n",
              "          element.appendChild(docLink);\n",
              "        }\n",
              "      </script>\n",
              "    </div>\n",
              "  </div>\n",
              "  "
            ]
          },
          "metadata": {},
          "execution_count": 65
        }
      ]
    },
    {
      "cell_type": "code",
      "source": [
        "df_test.head(3)"
      ],
      "metadata": {
        "colab": {
          "base_uri": "https://localhost:8080/",
          "height": 207
        },
        "id": "ZXcKmkWCyRVr",
        "outputId": "aedfd9d8-da43-4210-d8e2-8f2970b0e6ef"
      },
      "execution_count": 66,
      "outputs": [
        {
          "output_type": "execute_result",
          "data": {
            "text/plain": [
              "   id        obj_ID       alpha      delta         u         g         r  \\\n",
              "0   0  1.237662e+18  256.214932  20.212813  23.66373  21.13595  19.29212   \n",
              "1   1  1.237665e+18  117.219826  15.440152  21.01065  18.27865  17.23545   \n",
              "2   2  1.237662e+18  223.137071  44.963879  24.74111  24.13408  21.87315   \n",
              "\n",
              "          i         z  run_ID  cam_col  field_ID   spec_obj_ID  redshift  \\\n",
              "0  18.60851  18.19255    3926        5       219  1.604448e+18  0.396574   \n",
              "1  16.82708  16.60650    4517        2        29  5.061046e+18  0.000013   \n",
              "2  20.56357  19.75502    3964        2        78  9.561407e+18  0.629711   \n",
              "\n",
              "   plate    MJD  fiber_ID  \n",
              "0   1425  52913       146  \n",
              "1   4495  55566       459  \n",
              "2   8492  58171       965  "
            ],
            "text/html": [
              "\n",
              "  <div id=\"df-4d79bdef-b3ae-4c15-81f1-7468603460a0\">\n",
              "    <div class=\"colab-df-container\">\n",
              "      <div>\n",
              "<style scoped>\n",
              "    .dataframe tbody tr th:only-of-type {\n",
              "        vertical-align: middle;\n",
              "    }\n",
              "\n",
              "    .dataframe tbody tr th {\n",
              "        vertical-align: top;\n",
              "    }\n",
              "\n",
              "    .dataframe thead th {\n",
              "        text-align: right;\n",
              "    }\n",
              "</style>\n",
              "<table border=\"1\" class=\"dataframe\">\n",
              "  <thead>\n",
              "    <tr style=\"text-align: right;\">\n",
              "      <th></th>\n",
              "      <th>id</th>\n",
              "      <th>obj_ID</th>\n",
              "      <th>alpha</th>\n",
              "      <th>delta</th>\n",
              "      <th>u</th>\n",
              "      <th>g</th>\n",
              "      <th>r</th>\n",
              "      <th>i</th>\n",
              "      <th>z</th>\n",
              "      <th>run_ID</th>\n",
              "      <th>cam_col</th>\n",
              "      <th>field_ID</th>\n",
              "      <th>spec_obj_ID</th>\n",
              "      <th>redshift</th>\n",
              "      <th>plate</th>\n",
              "      <th>MJD</th>\n",
              "      <th>fiber_ID</th>\n",
              "    </tr>\n",
              "  </thead>\n",
              "  <tbody>\n",
              "    <tr>\n",
              "      <th>0</th>\n",
              "      <td>0</td>\n",
              "      <td>1.237662e+18</td>\n",
              "      <td>256.214932</td>\n",
              "      <td>20.212813</td>\n",
              "      <td>23.66373</td>\n",
              "      <td>21.13595</td>\n",
              "      <td>19.29212</td>\n",
              "      <td>18.60851</td>\n",
              "      <td>18.19255</td>\n",
              "      <td>3926</td>\n",
              "      <td>5</td>\n",
              "      <td>219</td>\n",
              "      <td>1.604448e+18</td>\n",
              "      <td>0.396574</td>\n",
              "      <td>1425</td>\n",
              "      <td>52913</td>\n",
              "      <td>146</td>\n",
              "    </tr>\n",
              "    <tr>\n",
              "      <th>1</th>\n",
              "      <td>1</td>\n",
              "      <td>1.237665e+18</td>\n",
              "      <td>117.219826</td>\n",
              "      <td>15.440152</td>\n",
              "      <td>21.01065</td>\n",
              "      <td>18.27865</td>\n",
              "      <td>17.23545</td>\n",
              "      <td>16.82708</td>\n",
              "      <td>16.60650</td>\n",
              "      <td>4517</td>\n",
              "      <td>2</td>\n",
              "      <td>29</td>\n",
              "      <td>5.061046e+18</td>\n",
              "      <td>0.000013</td>\n",
              "      <td>4495</td>\n",
              "      <td>55566</td>\n",
              "      <td>459</td>\n",
              "    </tr>\n",
              "    <tr>\n",
              "      <th>2</th>\n",
              "      <td>2</td>\n",
              "      <td>1.237662e+18</td>\n",
              "      <td>223.137071</td>\n",
              "      <td>44.963879</td>\n",
              "      <td>24.74111</td>\n",
              "      <td>24.13408</td>\n",
              "      <td>21.87315</td>\n",
              "      <td>20.56357</td>\n",
              "      <td>19.75502</td>\n",
              "      <td>3964</td>\n",
              "      <td>2</td>\n",
              "      <td>78</td>\n",
              "      <td>9.561407e+18</td>\n",
              "      <td>0.629711</td>\n",
              "      <td>8492</td>\n",
              "      <td>58171</td>\n",
              "      <td>965</td>\n",
              "    </tr>\n",
              "  </tbody>\n",
              "</table>\n",
              "</div>\n",
              "      <button class=\"colab-df-convert\" onclick=\"convertToInteractive('df-4d79bdef-b3ae-4c15-81f1-7468603460a0')\"\n",
              "              title=\"Convert this dataframe to an interactive table.\"\n",
              "              style=\"display:none;\">\n",
              "        \n",
              "  <svg xmlns=\"http://www.w3.org/2000/svg\" height=\"24px\"viewBox=\"0 0 24 24\"\n",
              "       width=\"24px\">\n",
              "    <path d=\"M0 0h24v24H0V0z\" fill=\"none\"/>\n",
              "    <path d=\"M18.56 5.44l.94 2.06.94-2.06 2.06-.94-2.06-.94-.94-2.06-.94 2.06-2.06.94zm-11 1L8.5 8.5l.94-2.06 2.06-.94-2.06-.94L8.5 2.5l-.94 2.06-2.06.94zm10 10l.94 2.06.94-2.06 2.06-.94-2.06-.94-.94-2.06-.94 2.06-2.06.94z\"/><path d=\"M17.41 7.96l-1.37-1.37c-.4-.4-.92-.59-1.43-.59-.52 0-1.04.2-1.43.59L10.3 9.45l-7.72 7.72c-.78.78-.78 2.05 0 2.83L4 21.41c.39.39.9.59 1.41.59.51 0 1.02-.2 1.41-.59l7.78-7.78 2.81-2.81c.8-.78.8-2.07 0-2.86zM5.41 20L4 18.59l7.72-7.72 1.47 1.35L5.41 20z\"/>\n",
              "  </svg>\n",
              "      </button>\n",
              "      \n",
              "  <style>\n",
              "    .colab-df-container {\n",
              "      display:flex;\n",
              "      flex-wrap:wrap;\n",
              "      gap: 12px;\n",
              "    }\n",
              "\n",
              "    .colab-df-convert {\n",
              "      background-color: #E8F0FE;\n",
              "      border: none;\n",
              "      border-radius: 50%;\n",
              "      cursor: pointer;\n",
              "      display: none;\n",
              "      fill: #1967D2;\n",
              "      height: 32px;\n",
              "      padding: 0 0 0 0;\n",
              "      width: 32px;\n",
              "    }\n",
              "\n",
              "    .colab-df-convert:hover {\n",
              "      background-color: #E2EBFA;\n",
              "      box-shadow: 0px 1px 2px rgba(60, 64, 67, 0.3), 0px 1px 3px 1px rgba(60, 64, 67, 0.15);\n",
              "      fill: #174EA6;\n",
              "    }\n",
              "\n",
              "    [theme=dark] .colab-df-convert {\n",
              "      background-color: #3B4455;\n",
              "      fill: #D2E3FC;\n",
              "    }\n",
              "\n",
              "    [theme=dark] .colab-df-convert:hover {\n",
              "      background-color: #434B5C;\n",
              "      box-shadow: 0px 1px 3px 1px rgba(0, 0, 0, 0.15);\n",
              "      filter: drop-shadow(0px 1px 2px rgba(0, 0, 0, 0.3));\n",
              "      fill: #FFFFFF;\n",
              "    }\n",
              "  </style>\n",
              "\n",
              "      <script>\n",
              "        const buttonEl =\n",
              "          document.querySelector('#df-4d79bdef-b3ae-4c15-81f1-7468603460a0 button.colab-df-convert');\n",
              "        buttonEl.style.display =\n",
              "          google.colab.kernel.accessAllowed ? 'block' : 'none';\n",
              "\n",
              "        async function convertToInteractive(key) {\n",
              "          const element = document.querySelector('#df-4d79bdef-b3ae-4c15-81f1-7468603460a0');\n",
              "          const dataTable =\n",
              "            await google.colab.kernel.invokeFunction('convertToInteractive',\n",
              "                                                     [key], {});\n",
              "          if (!dataTable) return;\n",
              "\n",
              "          const docLinkHtml = 'Like what you see? Visit the ' +\n",
              "            '<a target=\"_blank\" href=https://colab.research.google.com/notebooks/data_table.ipynb>data table notebook</a>'\n",
              "            + ' to learn more about interactive tables.';\n",
              "          element.innerHTML = '';\n",
              "          dataTable['output_type'] = 'display_data';\n",
              "          await google.colab.output.renderOutput(dataTable, element);\n",
              "          const docLink = document.createElement('div');\n",
              "          docLink.innerHTML = docLinkHtml;\n",
              "          element.appendChild(docLink);\n",
              "        }\n",
              "      </script>\n",
              "    </div>\n",
              "  </div>\n",
              "  "
            ]
          },
          "metadata": {},
          "execution_count": 66
        }
      ]
    },
    {
      "cell_type": "code",
      "source": [
        "# Se definen todas las variables relevantes (que no son IDs)\n",
        "variables_independientes = ['alpha', 'delta', 'u', 'g', 'r', 'i', 'z']\n",
        "variable_objetivo = 'label'\n",
        "\n",
        "# Se separan los datasets\n",
        "X_train = df_train[variables_independientes]\n",
        "y_train = df_train[variable_objetivo]\n",
        "\n",
        "X_test = df_test[variables_independientes]"
      ],
      "metadata": {
        "id": "mPBarx9tyTiN"
      },
      "execution_count": 67,
      "outputs": []
    },
    {
      "cell_type": "code",
      "source": [
        "X_train.shape"
      ],
      "metadata": {
        "colab": {
          "base_uri": "https://localhost:8080/"
        },
        "id": "vu6Hs2OqzWVb",
        "outputId": "b7335742-2829-462b-da64-a3d8534c36c4"
      },
      "execution_count": 70,
      "outputs": [
        {
          "output_type": "execute_result",
          "data": {
            "text/plain": [
              "(60000, 7)"
            ]
          },
          "metadata": {},
          "execution_count": 70
        }
      ]
    },
    {
      "cell_type": "code",
      "source": [
        "y_train"
      ],
      "metadata": {
        "colab": {
          "base_uri": "https://localhost:8080/"
        },
        "id": "-776uIDJziCP",
        "outputId": "7da1fce3-4cb0-45c8-d41a-50b7859be616"
      },
      "execution_count": 71,
      "outputs": [
        {
          "output_type": "execute_result",
          "data": {
            "text/plain": [
              "0        0\n",
              "1        2\n",
              "2        0\n",
              "3        2\n",
              "4        0\n",
              "        ..\n",
              "59995    1\n",
              "59996    0\n",
              "59997    0\n",
              "59998    1\n",
              "59999    0\n",
              "Name: label, Length: 60000, dtype: int64"
            ]
          },
          "metadata": {},
          "execution_count": 71
        }
      ]
    },
    {
      "cell_type": "code",
      "source": [
        "# Graficamos las variables\n",
        "import matplotlib.pyplot as plt\n",
        "\n",
        "plt.scatter(X_train['alpha'], y_train)\n",
        "plt.show()"
      ],
      "metadata": {
        "colab": {
          "base_uri": "https://localhost:8080/",
          "height": 265
        },
        "id": "5EfbpnlDzwyV",
        "outputId": "f1ed764e-33fb-4e6e-fee4-bfded8edd9c5"
      },
      "execution_count": 76,
      "outputs": [
        {
          "output_type": "display_data",
          "data": {
            "text/plain": [
              "<Figure size 432x288 with 1 Axes>"
            ],
            "image/png": "[encoded data removed]"
          },
          "metadata": {
            "needs_background": "light"
          }
        }
      ]
    },
    {
      "cell_type": "code",
      "source": [
        "# En este caso, es un problema de clasificación, no de regresión\n",
        "\n",
        "# El algoritmo por defecto para la clasificación es la regresión logística\n",
        "# (Que el nombre no confunda, es para problemas de clasificación)\n",
        "\n",
        "from sklearn.linear_model import LogisticRegression\n",
        "\n",
        "clf = LogisticRegression(solver='saga')\n",
        "clf.fit(X_train, y_train)"
      ],
      "metadata": {
        "colab": {
          "base_uri": "https://localhost:8080/"
        },
        "id": "kuLKEWomzYu4",
        "outputId": "3fe1d117-ce1c-4092-c14c-870cecf243e2"
      },
      "execution_count": 79,
      "outputs": [
        {
          "output_type": "stream",
          "name": "stderr",
          "text": [
            "/usr/local/lib/python3.7/dist-packages/sklearn/linear_model/_sag.py:354: ConvergenceWarning: The max_iter was reached which means the coef_ did not converge\n",
            "  ConvergenceWarning,\n"
          ]
        },
        {
          "output_type": "execute_result",
          "data": {
            "text/plain": [
              "LogisticRegression(solver='saga')"
            ]
          },
          "metadata": {},
          "execution_count": 79
        }
      ]
    },
    {
      "cell_type": "code",
      "source": [
        "clf.score(X_train, y_train)"
      ],
      "metadata": {
        "colab": {
          "base_uri": "https://localhost:8080/"
        },
        "id": "9MWGep2X0lOa",
        "outputId": "90f17265-50b4-4cda-cbe3-943344d22707"
      },
      "execution_count": 81,
      "outputs": [
        {
          "output_type": "execute_result",
          "data": {
            "text/plain": [
              "0.7570333333333333"
            ]
          },
          "metadata": {},
          "execution_count": 81
        }
      ]
    },
    {
      "cell_type": "code",
      "source": [
        "y_pred = clf.predict(X_test)"
      ],
      "metadata": {
        "id": "2hlFbHmA02LQ"
      },
      "execution_count": 82,
      "outputs": []
    },
    {
      "cell_type": "code",
      "source": [
        "# PAra subirlo a Kaggle\n",
        "submission_df = pd.DataFrame({'id':df_test['id'], 'label': y_pred})\n",
        "submission_df.to_csv('submission_logit.csv', index=False)"
      ],
      "metadata": {
        "id": "CcBXXIqy06JN"
      },
      "execution_count": 86,
      "outputs": []
    },
    {
      "cell_type": "code",
      "source": [
        "submission_df.head()"
      ],
      "metadata": {
        "colab": {
          "base_uri": "https://localhost:8080/",
          "height": 206
        },
        "id": "0zXNkSiy1ITh",
        "outputId": "cfca6fdb-cb61-4633-ed9d-2822d7b68d94"
      },
      "execution_count": 85,
      "outputs": [
        {
          "output_type": "execute_result",
          "data": {
            "text/plain": [
              "   id  label\n",
              "0   0      0\n",
              "1   1      0\n",
              "2   2      0\n",
              "3   3      0\n",
              "4   4      2"
            ],
            "text/html": [
              "\n",
              "  <div id=\"df-8b76daee-36ea-4b23-b59e-a1c099a4dd81\">\n",
              "    <div class=\"colab-df-container\">\n",
              "      <div>\n",
              "<style scoped>\n",
              "    .dataframe tbody tr th:only-of-type {\n",
              "        vertical-align: middle;\n",
              "    }\n",
              "\n",
              "    .dataframe tbody tr th {\n",
              "        vertical-align: top;\n",
              "    }\n",
              "\n",
              "    .dataframe thead th {\n",
              "        text-align: right;\n",
              "    }\n",
              "</style>\n",
              "<table border=\"1\" class=\"dataframe\">\n",
              "  <thead>\n",
              "    <tr style=\"text-align: right;\">\n",
              "      <th></th>\n",
              "      <th>id</th>\n",
              "      <th>label</th>\n",
              "    </tr>\n",
              "  </thead>\n",
              "  <tbody>\n",
              "    <tr>\n",
              "      <th>0</th>\n",
              "      <td>0</td>\n",
              "      <td>0</td>\n",
              "    </tr>\n",
              "    <tr>\n",
              "      <th>1</th>\n",
              "      <td>1</td>\n",
              "      <td>0</td>\n",
              "    </tr>\n",
              "    <tr>\n",
              "      <th>2</th>\n",
              "      <td>2</td>\n",
              "      <td>0</td>\n",
              "    </tr>\n",
              "    <tr>\n",
              "      <th>3</th>\n",
              "      <td>3</td>\n",
              "      <td>0</td>\n",
              "    </tr>\n",
              "    <tr>\n",
              "      <th>4</th>\n",
              "      <td>4</td>\n",
              "      <td>2</td>\n",
              "    </tr>\n",
              "  </tbody>\n",
              "</table>\n",
              "</div>\n",
              "      <button class=\"colab-df-convert\" onclick=\"convertToInteractive('df-8b76daee-36ea-4b23-b59e-a1c099a4dd81')\"\n",
              "              title=\"Convert this dataframe to an interactive table.\"\n",
              "              style=\"display:none;\">\n",
              "        \n",
              "  <svg xmlns=\"http://www.w3.org/2000/svg\" height=\"24px\"viewBox=\"0 0 24 24\"\n",
              "       width=\"24px\">\n",
              "    <path d=\"M0 0h24v24H0V0z\" fill=\"none\"/>\n",
              "    <path d=\"M18.56 5.44l.94 2.06.94-2.06 2.06-.94-2.06-.94-.94-2.06-.94 2.06-2.06.94zm-11 1L8.5 8.5l.94-2.06 2.06-.94-2.06-.94L8.5 2.5l-.94 2.06-2.06.94zm10 10l.94 2.06.94-2.06 2.06-.94-2.06-.94-.94-2.06-.94 2.06-2.06.94z\"/><path d=\"M17.41 7.96l-1.37-1.37c-.4-.4-.92-.59-1.43-.59-.52 0-1.04.2-1.43.59L10.3 9.45l-7.72 7.72c-.78.78-.78 2.05 0 2.83L4 21.41c.39.39.9.59 1.41.59.51 0 1.02-.2 1.41-.59l7.78-7.78 2.81-2.81c.8-.78.8-2.07 0-2.86zM5.41 20L4 18.59l7.72-7.72 1.47 1.35L5.41 20z\"/>\n",
              "  </svg>\n",
              "      </button>\n",
              "      \n",
              "  <style>\n",
              "    .colab-df-container {\n",
              "      display:flex;\n",
              "      flex-wrap:wrap;\n",
              "      gap: 12px;\n",
              "    }\n",
              "\n",
              "    .colab-df-convert {\n",
              "      background-color: #E8F0FE;\n",
              "      border: none;\n",
              "      border-radius: 50%;\n",
              "      cursor: pointer;\n",
              "      display: none;\n",
              "      fill: #1967D2;\n",
              "      height: 32px;\n",
              "      padding: 0 0 0 0;\n",
              "      width: 32px;\n",
              "    }\n",
              "\n",
              "    .colab-df-convert:hover {\n",
              "      background-color: #E2EBFA;\n",
              "      box-shadow: 0px 1px 2px rgba(60, 64, 67, 0.3), 0px 1px 3px 1px rgba(60, 64, 67, 0.15);\n",
              "      fill: #174EA6;\n",
              "    }\n",
              "\n",
              "    [theme=dark] .colab-df-convert {\n",
              "      background-color: #3B4455;\n",
              "      fill: #D2E3FC;\n",
              "    }\n",
              "\n",
              "    [theme=dark] .colab-df-convert:hover {\n",
              "      background-color: #434B5C;\n",
              "      box-shadow: 0px 1px 3px 1px rgba(0, 0, 0, 0.15);\n",
              "      filter: drop-shadow(0px 1px 2px rgba(0, 0, 0, 0.3));\n",
              "      fill: #FFFFFF;\n",
              "    }\n",
              "  </style>\n",
              "\n",
              "      <script>\n",
              "        const buttonEl =\n",
              "          document.querySelector('#df-8b76daee-36ea-4b23-b59e-a1c099a4dd81 button.colab-df-convert');\n",
              "        buttonEl.style.display =\n",
              "          google.colab.kernel.accessAllowed ? 'block' : 'none';\n",
              "\n",
              "        async function convertToInteractive(key) {\n",
              "          const element = document.querySelector('#df-8b76daee-36ea-4b23-b59e-a1c099a4dd81');\n",
              "          const dataTable =\n",
              "            await google.colab.kernel.invokeFunction('convertToInteractive',\n",
              "                                                     [key], {});\n",
              "          if (!dataTable) return;\n",
              "\n",
              "          const docLinkHtml = 'Like what you see? Visit the ' +\n",
              "            '<a target=\"_blank\" href=https://colab.research.google.com/notebooks/data_table.ipynb>data table notebook</a>'\n",
              "            + ' to learn more about interactive tables.';\n",
              "          element.innerHTML = '';\n",
              "          dataTable['output_type'] = 'display_data';\n",
              "          await google.colab.output.renderOutput(dataTable, element);\n",
              "          const docLink = document.createElement('div');\n",
              "          docLink.innerHTML = docLinkHtml;\n",
              "          element.appendChild(docLink);\n",
              "        }\n",
              "      </script>\n",
              "    </div>\n",
              "  </div>\n",
              "  "
            ]
          },
          "metadata": {},
          "execution_count": 85
        }
      ]
    },
    {
      "cell_type": "markdown",
      "source": [
        "[Para más información sobre la regresión logística](https://scikit-learn.org/stable/modules/generated/sklearn.linear_model.LogisticRegression.html)"
      ],
      "metadata": {
        "id": "54uMoV-k0J6q"
      }
    },
    {
      "cell_type": "code",
      "source": [
        "# Pero no todo se trata sobre el accuracy, también hay otras métricas\n",
        "\n",
        "# Como la F1\n",
        "from sklearn.metrics import f1_score\n",
        "f1_score(y_train, clf.predict(X_train), average='macro')"
      ],
      "metadata": {
        "colab": {
          "base_uri": "https://localhost:8080/"
        },
        "id": "l_tg2Edk1qG0",
        "outputId": "d1242ef3-1a1a-48ba-fb89-a6839b9400cb"
      },
      "execution_count": 87,
      "outputs": [
        {
          "output_type": "execute_result",
          "data": {
            "text/plain": [
              "0.6487767747416459"
            ]
          },
          "metadata": {},
          "execution_count": 87
        }
      ]
    },
    {
      "cell_type": "markdown",
      "source": [
        "[Para saber más sobre la F1](https://scikit-learn.org/stable/modules/generated/sklearn.metrics.f1_score.html#sklearn.metrics.f1_score)\n",
        "\n",
        "[Para conocer más métricas](https://scikit-learn.org/stable/modules/model_evaluation.html)"
      ],
      "metadata": {
        "id": "YcqtVbKd2s_K"
      }
    },
    {
      "cell_type": "code",
      "source": [
        "# El primo chido del random forest: el GBM\n",
        "# (el algorimo que gana casi todo en Kaggle)\n",
        "from sklearn.ensemble import GradientBoostingClassifier\n",
        "\n",
        "gbm_clf = GradientBoostingClassifier(n_estimators=100, learning_rate=1.0, max_depth=1, random_state=0)\n",
        "gbm_clf.fit(X_train, y_train)"
      ],
      "metadata": {
        "colab": {
          "base_uri": "https://localhost:8080/"
        },
        "id": "LggMY0r51mOM",
        "outputId": "caaeb06f-03f4-4645-ef01-dec50e6dbf82"
      },
      "execution_count": 88,
      "outputs": [
        {
          "output_type": "execute_result",
          "data": {
            "text/plain": [
              "GradientBoostingClassifier(learning_rate=1.0, max_depth=1, random_state=0)"
            ]
          },
          "metadata": {},
          "execution_count": 88
        }
      ]
    },
    {
      "cell_type": "code",
      "source": [
        "gbm_clf.score(X_train, y_train)"
      ],
      "metadata": {
        "colab": {
          "base_uri": "https://localhost:8080/"
        },
        "id": "IFDdRraG4SyA",
        "outputId": "6c0613bb-4a59-4f8c-d132-21ca8d65b836"
      },
      "execution_count": 89,
      "outputs": [
        {
          "output_type": "execute_result",
          "data": {
            "text/plain": [
              "0.80375"
            ]
          },
          "metadata": {},
          "execution_count": 89
        }
      ]
    },
    {
      "cell_type": "code",
      "source": [
        "# Para mi submission de Kaggle\n",
        "y_pred = gbm_clf.predict(X_test)\n",
        "\n",
        "submission_df = pd.DataFrame({'id':df_test['id'], 'label': y_pred})\n",
        "submission_df.to_csv('submission_gbm.csv', index=False)"
      ],
      "metadata": {
        "id": "lJezF90d4ZuU"
      },
      "execution_count": 92,
      "outputs": []
    },
    {
      "cell_type": "markdown",
      "source": [
        "[Para saber más sobre el GBM para clasificación](https://scikit-learn.org/stable/modules/generated/sklearn.ensemble.GradientBoostingClassifier.html)"
      ],
      "metadata": {
        "id": "2mTou_NB30a3"
      }
    },
    {
      "cell_type": "markdown",
      "source": [
        "__EXTRA__:\n",
        "\n",
        "[Ver también, XGBoost, la librería para GBM y otros algoritmos con \"boosting\"](https://xgboost.readthedocs.io/en/stable/)"
      ],
      "metadata": {
        "id": "I03QD04z3tWL"
      }
    }
  ]
}